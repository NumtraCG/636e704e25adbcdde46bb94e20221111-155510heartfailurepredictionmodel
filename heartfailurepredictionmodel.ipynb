{
 "cells": [
  {
   "cell_type": "markdown",
   "id": "cf5b535b",
   "metadata": {},
   "source": [
    "***GENERATED CODE FOR heartfailurepredictionmodel PIPELINE.***"
   ]
  },
  {
   "cell_type": "markdown",
   "id": "9fdbb558",
   "metadata": {},
   "source": [
    "***DON'T EDIT THIS CODE.***"
   ]
  }
 ],
 "metadata": {},
 "nbformat": 4,
 "nbformat_minor": 5
}
